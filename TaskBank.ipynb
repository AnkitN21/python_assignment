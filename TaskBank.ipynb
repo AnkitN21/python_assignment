{
 "cells": [
  {
   "cell_type": "code",
   "execution_count": null,
   "id": "42bdf852-8801-44e3-b30d-74d949e13172",
   "metadata": {},
   "outputs": [],
   "source": [
    "#for importing info from json file\n",
    "#import json\n",
    "#with open(\"Ankit.json\",mode=\"r\") as file:\n",
    "    #data = json.load(file)"
   ]
  },
  {
   "cell_type": "code",
   "execution_count": 1,
   "id": "3ed96693-6d42-4aba-8d46-7790de18daff",
   "metadata": {},
   "outputs": [],
   "source": [
    "data = {'1011': {'Name': 'Ankit', 'Acc.No': 1213415671, 'Mobile.No': 918716541, 'Balance': 25000}}"
   ]
  },
  {
   "cell_type": "code",
   "execution_count": 2,
   "id": "9a1883e8-268f-495b-8568-07f825ba9576",
   "metadata": {},
   "outputs": [],
   "source": [
    "import random\n",
    "\n",
    "def gene_otp():\n",
    "    r = random.randint(1001,9999)\n",
    "    print(r)\n",
    "    return r"
   ]
  },
  {
   "cell_type": "code",
   "execution_count": 3,
   "id": "f386ab23-92a9-4ebe-88a7-2119e30eb3bf",
   "metadata": {},
   "outputs": [
    {
     "name": "stdin",
     "output_type": "stream",
     "text": [
      "Please, enter Your PIN: 1011\n"
     ]
    },
    {
     "name": "stdout",
     "output_type": "stream",
     "text": [
      "Hi Ankit,\n",
      "Please, select your option:\n",
      "1 – Balance Inquiry\n",
      "2 – Withdraw\n",
      "3 – Deposit\n",
      "4 – Exit\n"
     ]
    },
    {
     "name": "stdin",
     "output_type": "stream",
     "text": [
      "Enter your choice: 3\n",
      "Enter Your Account Number: 1213415671\n",
      "Enter amount to deposit: ₹ 2300\n",
      "Enter your mobile number for otp: +91 918716541\n"
     ]
    },
    {
     "name": "stdout",
     "output_type": "stream",
     "text": [
      "5304\n"
     ]
    },
    {
     "name": "stdin",
     "output_type": "stream",
     "text": [
      "Enter otp number 5304\n"
     ]
    },
    {
     "name": "stdout",
     "output_type": "stream",
     "text": [
      "Your New balance is ₹ 27300\n",
      "Your Transaction has been completed successfully\n",
      "Thank you for visiting us, have a nice day\n",
      "{'1011': {'Name': 'Ankit', 'Acc.No': 1213415671, 'Mobile.No': 918716541, 'Balance': 27300}}\n"
     ]
    }
   ],
   "source": [
    "def cancel(x):\n",
    "    if x == 1:\n",
    "        print(\"Your Transaction has been completed successfully\")\n",
    "    else:\n",
    "        print(\"Further process has been cancelled!\")\n",
    "    return\n",
    "\n",
    "\n",
    "pin_input = input(\"Please, enter Your PIN:\")\n",
    "\n",
    "if pin_input not in data:\n",
    "    print(\"Your Have Entered Wrong PIN\")\n",
    "    \n",
    "if pin_input in data:\n",
    "    print(f\"Hi {data[pin_input][\"Name\"]},\")\n",
    "    print(\"Please, select your option:\")\n",
    "    \n",
    "    print(\"1 – Balance Inquiry\")\n",
    "    print(\"2 – Withdraw\")\n",
    "    print(\"3 – Deposit\")\n",
    "    print(\"4 – Exit\")\n",
    "\n",
    "    choice = int(input(\"Enter your choice:\"))\n",
    "\n",
    "    if choice == 1 or choice == 2 or choice == 3:\n",
    "        acc = int(input(\"Enter Your Account Number:\"))\n",
    "        \n",
    "        if acc == data[pin_input][\"Acc.No\"]:\n",
    "            \n",
    "            if choice == 1:\n",
    "                print(f\"Your current balance is ₹ {data[pin_input][\"Balance\"]}\")\n",
    "            \n",
    "            elif choice == 2:\n",
    "                withdraw = int(input(\"Enter amount to withdraw: ₹\"))\n",
    "                mob = int(input(\"Enter your mobile number for otp: +91\"))\n",
    "                \n",
    "                if mob == data[pin_input][\"Mobile.No\"]:\n",
    "                    otp_num = gene_otp()\n",
    "                    ran_num = int(input(\"Enter otp number\"))\n",
    "                    \n",
    "                    if ran_num == otp_num:\n",
    "                        \n",
    "                        if withdraw > data[pin_input][\"Balance\"]:\n",
    "                            print(\"Due to Insufficient Balance\")\n",
    "                            cancel(0)\n",
    "                        else:\n",
    "                            diff = data[pin_input][\"Balance\"] - withdraw\n",
    "                            cancel(1)\n",
    "                            print(f\"Your remaining balance is ₹ {diff}\")\n",
    "                            data[pin_input][\"Balance\"] = diff                        \n",
    "                    else:\n",
    "                        print(\"You have entered wrong otp number\")\n",
    "                        cancel(0)\n",
    "                else:\n",
    "                    print(\"You have entered wrong mobile number\")\n",
    "                    cancel(0)\n",
    "                            \n",
    "            elif choice == 3:\n",
    "                deposit = int(input(\"Enter amount to deposit: ₹\"))\n",
    "                mob = int(input(\"Enter your mobile number for otp: +91\"))\n",
    "                \n",
    "                if mob == data[pin_input][\"Mobile.No\"]:\n",
    "                    otp_num = gene_otp()\n",
    "                    ran_num = int(input(\"Enter otp number\"))\n",
    "                    \n",
    "                    if ran_num == otp_num:\n",
    "                        sums = data[pin_input][\"Balance\"] + deposit\n",
    "                        print(f\"Your New balance is ₹ {sums}\")\n",
    "                        cancel(1)\n",
    "                        data[pin_input][\"Balance\"] = sums\n",
    "                    else:\n",
    "                        print(\"You have entered wrong otp number\")\n",
    "                        cancel(0)\n",
    "                else:\n",
    "                    print(\"You have entered wrong mobile number\")\n",
    "                    cancel(0)\n",
    "        else:\n",
    "            print(\"You have entered wrong Account Number\")\n",
    "            cancel(0)\n",
    "\n",
    "    elif choice == 4:\n",
    "        print(\"Your are now exiting\")\n",
    "    \n",
    "    else:     \n",
    "        print(\"You Have Opted Invalid Option\")  \n",
    "\n",
    "\n",
    "print(\"Thank you for visiting us, have a nice day\")\n",
    "print(data)\n",
    "\n"
   ]
  },
  {
   "cell_type": "code",
   "execution_count": null,
   "id": "6bda41e9-a827-4693-b4fe-5cddea8c1a1a",
   "metadata": {},
   "outputs": [],
   "source": [
    "# for updating the info in the file\n",
    "#with open(\"Ankit.json\",mode=\"w\") as file:\n",
    "    #json.dump(data,file)"
   ]
  }
 ],
 "metadata": {
  "kernelspec": {
   "display_name": "Python 3 (ipykernel)",
   "language": "python",
   "name": "python3"
  },
  "language_info": {
   "codemirror_mode": {
    "name": "ipython",
    "version": 3
   },
   "file_extension": ".py",
   "mimetype": "text/x-python",
   "name": "python",
   "nbconvert_exporter": "python",
   "pygments_lexer": "ipython3",
   "version": "3.12.4"
  }
 },
 "nbformat": 4,
 "nbformat_minor": 5
}
