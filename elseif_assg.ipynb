{
 "cells": [
  {
   "cell_type": "markdown",
   "id": "ca702b7f-cd8c-467e-a9a6-4e4390a78e11",
   "metadata": {},
   "source": [
    "Ans1:"
   ]
  },
  {
   "cell_type": "code",
   "execution_count": 2,
   "id": "1eb0a5f3-83f5-4004-84ec-ad039011f627",
   "metadata": {},
   "outputs": [
    {
     "name": "stdin",
     "output_type": "stream",
     "text": [
      "Enter Your Unit 203\n"
     ]
    },
    {
     "name": "stdout",
     "output_type": "stream",
     "text": [
      "Your Bill is Rs 530\n"
     ]
    }
   ],
   "source": [
    "un=int(input(\"Enter Your Unit\"))\n",
    "\n",
    "if un<=100:\n",
    "    print(\"Your Bill is Nil\")\n",
    "    \n",
    "elif un>100 and un<=200:\n",
    "    a=(un-100)*5\n",
    "    print(\"Your Bill is Rs %d\"%(a))\n",
    "    \n",
    "elif un>200:\n",
    "    a=((un-200)*10)+500\n",
    "    print(\"Your Bill is Rs %d\"%(a))\n"
   ]
  },
  {
   "cell_type": "markdown",
   "id": "087ee82d-efcf-4b9a-81e6-1d33d2acfeec",
   "metadata": {},
   "source": [
    "Ans2:"
   ]
  },
  {
   "cell_type": "code",
   "execution_count": 17,
   "id": "20a561a3-a12f-4aae-b2f9-93c276c0b2f4",
   "metadata": {},
   "outputs": [
    {
     "name": "stdin",
     "output_type": "stream",
     "text": [
      "Enter Your Percentage 87\n"
     ]
    },
    {
     "name": "stdout",
     "output_type": "stream",
     "text": [
      "B\n"
     ]
    }
   ],
   "source": [
    "per= int(input(\"Enter Your Percentage\"))\n",
    "\n",
    "if per<60:\n",
    "    print(\"D\")\n",
    "\n",
    "elif per>=60 and per<=80:\n",
    "    print(\"C\")\n",
    "\n",
    "elif per>80 and per<=90:\n",
    "    print(\"B\")\n",
    "\n",
    "elif per>90 and per<=100:\n",
    "    print(\"A\")\n",
    "\n",
    "else:\n",
    "    print(\"invalid\")"
   ]
  },
  {
   "cell_type": "markdown",
   "id": "e3f076c5-b621-49fc-8746-9a06cf3b2171",
   "metadata": {},
   "source": [
    "Ans3:"
   ]
  },
  {
   "cell_type": "code",
   "execution_count": 24,
   "id": "7872ffc9-b6a0-4151-9a0e-dd9af468dd1e",
   "metadata": {},
   "outputs": [
    {
     "name": "stdin",
     "output_type": "stream",
     "text": [
      "Enter 1st person age 87\n",
      "Enter 2nd person age 65\n",
      "Enter 3rd person age 43\n",
      "Enter 4th person age 72\n"
     ]
    },
    {
     "name": "stdout",
     "output_type": "stream",
     "text": [
      "3rd person is the youngest\n"
     ]
    }
   ],
   "source": [
    "w=int(input(\"Enter 1st person age\"))\n",
    "x=int(input(\"Enter 2nd person age\"))\n",
    "y=int(input(\"Enter 3rd person age\"))\n",
    "z=int(input(\"Enter 4th person age\"))\n",
    "\n",
    "if w<x and w<y and w<z:\n",
    "    print(\"1st person is the youngest\")\n",
    "elif x<w and x<y and x<z:\n",
    "    print(\"2nd person is the youngest\")\n",
    "elif y<w and y<x and y<z:\n",
    "    print(\"3rd person is the youngest\")\n",
    "else:\n",
    "    print(\"4th person is the youngest\")\n",
    "    "
   ]
  },
  {
   "cell_type": "markdown",
   "id": "fb92704a-e579-4954-a709-5fd5b993734a",
   "metadata": {},
   "source": [
    "Ans4:    "
   ]
  },
  {
   "cell_type": "code",
   "execution_count": 3,
   "id": "08a4a727-12c5-4865-9343-af5113d26de6",
   "metadata": {},
   "outputs": [
    {
     "name": "stdin",
     "output_type": "stream",
     "text": [
      "Enter your Salary p.a 30000\n",
      "Year of Service 7\n"
     ]
    },
    {
     "name": "stdout",
     "output_type": "stream",
     "text": [
      "Total Amount for the service of 7 years is 32400\n"
     ]
    }
   ],
   "source": [
    "s=int(input(\"Enter your Salary p.a\"))\n",
    "t=int(input(\"Years of Service\"))\n",
    "\n",
    "if t<6:\n",
    "    b=s*1.05\n",
    "    print(\"Total Amount for the service of %d years is %d\"%(t,b))\n",
    "elif t>=6 and t<=10:\n",
    "    b=s*1.08\n",
    "    print(\"Total Amount for the service of %d years is %d\"%(t,b))\n",
    "elif t>10:\n",
    "    b=s*1.1\n",
    "    print(\"Total Amount for the service of %d year is %d\"%(t,b))\n",
    "    "
   ]
  },
  {
   "cell_type": "markdown",
   "id": "57444c79-a777-445f-be1c-329f3f3ebede",
   "metadata": {},
   "source": [
    "Ans5:"
   ]
  },
  {
   "cell_type": "code",
   "execution_count": 8,
   "id": "a818264b-dd7e-4985-a8c7-ba287d4182c1",
   "metadata": {},
   "outputs": [
    {
     "name": "stdin",
     "output_type": "stream",
     "text": [
      "Enter 1st Number 56\n",
      "Enter 2nd Number 73\n",
      "Enter 3rd Number 65\n"
     ]
    },
    {
     "name": "stdout",
     "output_type": "stream",
     "text": [
      "3rd number is second largest\n"
     ]
    }
   ],
   "source": [
    "m=int(input(\"Enter 1st Number\"))\n",
    "n=int(input(\"Enter 2nd Number\"))\n",
    "o=int(input(\"Enter 3rd Number\"))\n",
    "\n",
    "if m<n and m>o:\n",
    "    print(\"1st number is second largest\")\n",
    "elif n<m and n>o:\n",
    "    print(\"2nd number is second iargest\")\n",
    "else:\n",
    "    print(\"3rd number is second largest\")\n",
    "    "
   ]
  },
  {
   "cell_type": "markdown",
   "id": "1fc2932d-4a0d-4671-a05f-9fd0af490668",
   "metadata": {},
   "source": [
    "Ans6:  "
   ]
  },
  {
   "cell_type": "code",
   "execution_count": 65,
   "id": "a7c2d943-5f86-47fc-b6fa-04775e57aebc",
   "metadata": {},
   "outputs": [
    {
     "name": "stdin",
     "output_type": "stream",
     "text": [
      "Enter Marked Price 8200\n"
     ]
    },
    {
     "name": "stdout",
     "output_type": "stream",
     "text": [
      "Your Amount after discount is Rs 6970\n"
     ]
    }
   ],
   "source": [
    "mp=int(input(\"Enter Marked Price\"))\n",
    "\n",
    "if mp<=7000:\n",
    "    np=mp*.90\n",
    "    print(\"Your Amount after discount is Rs %d\"%(np))\n",
    "elif mp>7000 and mp<=10000:\n",
    "    np=mp*.85\n",
    "    print(\"Your Amount after discount is Rs %d\"%(np))\n",
    "elif mp>10000:\n",
    "    np=mp*.80\n",
    "    print(\"Your Amount after discount is Rs %d\"%(np))"
   ]
  },
  {
   "cell_type": "markdown",
   "id": "5caf37d6-a161-4152-8d47-8a3282cc15fe",
   "metadata": {},
   "source": [
    "Ans7:"
   ]
  },
  {
   "cell_type": "code",
   "execution_count": 7,
   "id": "a9be4e52-6795-4ef8-9188-5b0333d69054",
   "metadata": {},
   "outputs": [
    {
     "name": "stdin",
     "output_type": "stream",
     "text": [
      "Enter Your English marks 82\n",
      "Enter Your Maths marks 65\n",
      "Enter Your Science marks 72\n",
      "Enter Your Social Studies marks 68\n"
     ]
    },
    {
     "name": "stdout",
     "output_type": "stream",
     "text": [
      "You are allotted to Commerce stream\n"
     ]
    }
   ],
   "source": [
    "a1=int(input(\"Enter Your English marks\"))\n",
    "b1=int(input(\"Enter Your Maths marks\"))\n",
    "c1=int(input(\"Enter Your Science marks\"))\n",
    "d1=int(input(\"Enter Your Social Studies marks\"))\n",
    "\n",
    "if a1>100 or b1>100 or c1>100 or d1>100:\n",
    "    print(\"Your entered marks is/are invalid\")\n",
    "    \n",
    "elif a1>80 and b1>80 and c1>80 and d1>80:\n",
    "    print(\"You are allotted to Science stream\")\n",
    "elif a1>80 and b1>50 and c1>50:\n",
    "    print(\"You are allotted to Commerce stream\")\n",
    "elif a1>80 and d1>80:\n",
    "    print(\"You are allotted to Humanities stream\")\n",
    "else:\n",
    "    print(\"No stream is allotted\")\n"
   ]
  },
  {
   "cell_type": "markdown",
   "id": "def65166-c8bd-4509-9cbb-e0360c46492a",
   "metadata": {},
   "source": [
    "Ans8:    "
   ]
  },
  {
   "cell_type": "code",
   "execution_count": 46,
   "id": "802e2eb7-9f49-41a1-986c-c09640bbf2f8",
   "metadata": {},
   "outputs": [
    {
     "name": "stdin",
     "output_type": "stream",
     "text": [
      "Enter a number 35\n"
     ]
    },
    {
     "name": "stdout",
     "output_type": "stream",
     "text": [
      "Hello\n"
     ]
    }
   ],
   "source": [
    "f=int(input(\"Enter a number\"))\n",
    "\n",
    "e=f%5\n",
    "if e == 0:\n",
    "    print(\"Hello\")\n",
    "else:\n",
    "    print(\"Bye\")\n",
    "    "
   ]
  },
  {
   "cell_type": "markdown",
   "id": "ef73f342-1ab3-4d18-b013-0a4b8d6c628b",
   "metadata": {},
   "source": [
    "Ans9:"
   ]
  },
  {
   "cell_type": "code",
   "execution_count": 5,
   "id": "be4e802e-e7ba-439f-b2e2-134cc42c5997",
   "metadata": {},
   "outputs": [
    {
     "name": "stdin",
     "output_type": "stream",
     "text": [
      "Enter the number 349\n"
     ]
    },
    {
     "name": "stdout",
     "output_type": "stream",
     "text": [
      "Last digit of 349 is divisible by 3\n"
     ]
    }
   ],
   "source": [
    "n1=int(input(\"Enter the number\"))\n",
    "ld=n1%10\n",
    "\n",
    "if ld%3 == 0:\n",
    "    print(\"Last digit of %d is divisible by 3\"%(n1))\n",
    "\n",
    "else:\n",
    "    print(\"Last digit of %d is not divisible by 3\"%(n1))"
   ]
  },
  {
   "cell_type": "markdown",
   "id": "13a46f28-08b7-4e54-8126-4c82fa438af8",
   "metadata": {},
   "source": [
    "Ans10:"
   ]
  },
  {
   "cell_type": "code",
   "execution_count": 6,
   "id": "03a63038-22fc-4ecb-bb5b-6f05f235bd3b",
   "metadata": {},
   "outputs": [
    {
     "name": "stdin",
     "output_type": "stream",
     "text": [
      "Enter your number 2024\n"
     ]
    },
    {
     "name": "stdout",
     "output_type": "stream",
     "text": [
      "2024 is not a 3 digit number\n"
     ]
    }
   ],
   "source": [
    "num=int(input(\"Enter your number\"))\n",
    "\n",
    "if num<1000 and num>99:\n",
    "    print(\"%d is a 3 digit number\"%(num))\n",
    "else:\n",
    "    print(\"%d is not a 3 digit number\"%(num))"
   ]
  },
  {
   "cell_type": "code",
   "execution_count": null,
   "id": "632c8105-224e-4cdd-a511-e1b10a116e74",
   "metadata": {},
   "outputs": [],
   "source": []
  }
 ],
 "metadata": {
  "kernelspec": {
   "display_name": "Python 3 (ipykernel)",
   "language": "python",
   "name": "python3"
  },
  "language_info": {
   "codemirror_mode": {
    "name": "ipython",
    "version": 3
   },
   "file_extension": ".py",
   "mimetype": "text/x-python",
   "name": "python",
   "nbconvert_exporter": "python",
   "pygments_lexer": "ipython3",
   "version": "3.12.4"
  }
 },
 "nbformat": 4,
 "nbformat_minor": 5
}
