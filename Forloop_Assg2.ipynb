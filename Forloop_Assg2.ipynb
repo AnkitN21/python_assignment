{
 "cells": [
  {
   "cell_type": "markdown",
   "id": "e34140f2-b486-4b57-80ab-93f8cbddb9f2",
   "metadata": {},
   "source": [
    "Task 1:"
   ]
  },
  {
   "cell_type": "code",
   "execution_count": 8,
   "id": "ff82faac-669d-4a4c-80c6-057803631e19",
   "metadata": {},
   "outputs": [
    {
     "name": "stdout",
     "output_type": "stream",
     "text": [
      "(RajPatel@gmail.com\n",
      "(PriyaSharma@gmail.com\n",
      "(AmitKumar@gmail.com\n",
      "(NehaSingh@gmail.com\n"
     ]
    }
   ],
   "source": [
    "indian_employees = [[\"Raj\", \"Patel\"], [\"Priya\", \"Sharma\"],[\"Amit\", \"Kumar\"],[\"Neha\", \"Singh\"]]\n",
    "\n",
    "for name, surname in indian_employees:\n",
    "    print(f\"{name}{surname}@gmail.com\")"
   ]
  },
  {
   "cell_type": "code",
   "execution_count": null,
   "id": "6da9fb10-5ad2-431c-a62c-5dfa047fa5ef",
   "metadata": {},
   "outputs": [],
   "source": []
  }
 ],
 "metadata": {
  "kernelspec": {
   "display_name": "Python 3 (ipykernel)",
   "language": "python",
   "name": "python3"
  },
  "language_info": {
   "codemirror_mode": {
    "name": "ipython",
    "version": 3
   },
   "file_extension": ".py",
   "mimetype": "text/x-python",
   "name": "python",
   "nbconvert_exporter": "python",
   "pygments_lexer": "ipython3",
   "version": "3.12.4"
  }
 },
 "nbformat": 4,
 "nbformat_minor": 5
}
