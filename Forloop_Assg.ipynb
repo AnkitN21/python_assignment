{
 "cells": [
  {
   "cell_type": "markdown",
   "id": "b0b2e1c9-89fe-4400-9c5d-51a368b0fe3a",
   "metadata": {},
   "source": [
    "Ans1:  "
   ]
  },
  {
   "cell_type": "code",
   "execution_count": 2,
   "id": "4269f871-4a1c-459a-96f6-1db25685699d",
   "metadata": {},
   "outputs": [
    {
     "name": "stdout",
     "output_type": "stream",
     "text": [
      "1\n",
      "2\n",
      "3\n",
      "4\n",
      "5\n",
      "6\n",
      "7\n",
      "8\n",
      "9\n",
      "10\n"
     ]
    }
   ],
   "source": [
    "for i in range(1,11):\n",
    "    print(i)"
   ]
  },
  {
   "cell_type": "markdown",
   "id": "5e76a54e-d24c-494a-bcb3-268990fed8b4",
   "metadata": {},
   "source": [
    "Ans2:"
   ]
  },
  {
   "cell_type": "code",
   "execution_count": 5,
   "id": "074ed2fb-36a5-428b-a4ff-f138c5b0f0ca",
   "metadata": {},
   "outputs": [
    {
     "name": "stdout",
     "output_type": "stream",
     "text": [
      "5050\n"
     ]
    }
   ],
   "source": [
    "sum=0\n",
    "for i in range(1,101):\n",
    "    sum=sum+i\n",
    "print(sum)"
   ]
  },
  {
   "cell_type": "markdown",
   "id": "5a4b0c44-7b90-4bc0-9bfd-5db77be6abc9",
   "metadata": {},
   "source": [
    "Ans3:"
   ]
  },
  {
   "cell_type": "code",
   "execution_count": 6,
   "id": "365abf82-63dc-4b08-ae5c-fff279f1dbd7",
   "metadata": {},
   "outputs": [
    {
     "name": "stdin",
     "output_type": "stream",
     "text": [
      "Enter the number: 5\n"
     ]
    },
    {
     "name": "stdout",
     "output_type": "stream",
     "text": [
      "5 x 1 = 5\n",
      "5 x 2 = 10\n",
      "5 x 3 = 15\n",
      "5 x 4 = 20\n",
      "5 x 5 = 25\n",
      "5 x 6 = 30\n",
      "5 x 7 = 35\n",
      "5 x 8 = 40\n",
      "5 x 9 = 45\n",
      "5 x 10 = 50\n"
     ]
    }
   ],
   "source": [
    "num=int(input(\"Enter the number:\"))\n",
    "\n",
    "for i in range(1,11):\n",
    "    print(num,\"x\",i,\"=\",num*i)\n",
    "    "
   ]
  },
  {
   "cell_type": "markdown",
   "id": "d514f372-4b73-4fa6-aea8-e3d0528d9986",
   "metadata": {},
   "source": [
    "Ans4:"
   ]
  },
  {
   "cell_type": "code",
   "execution_count": 9,
   "id": "9c9f783d-51c7-4c4e-b71b-201712d37265",
   "metadata": {},
   "outputs": [
    {
     "name": "stdout",
     "output_type": "stream",
     "text": [
      "Even number in the list: 5\n",
      "Odd number in the list: 5\n"
     ]
    }
   ],
   "source": [
    "list= [1, 2, 3, 4, 5, 6, 7, 8, 9, 10]\n",
    "even=0\n",
    "odd=0\n",
    "\n",
    "for num in list:\n",
    "    if num%2 == 0:\n",
    "        even += 1\n",
    "    else:\n",
    "        odd +=1\n",
    "\n",
    "print(\"Even number in the list:\",even)\n",
    "print(\"Odd number in the list:\",odd)"
   ]
  },
  {
   "cell_type": "markdown",
   "id": "96678c7a-1a0a-45b9-9490-9c51ea5f221b",
   "metadata": {},
   "source": [
    "Ans5:"
   ]
  },
  {
   "cell_type": "code",
   "execution_count": 11,
   "id": "2ec38767-7ac2-4a74-959f-31e20c62fb36",
   "metadata": {},
   "outputs": [
    {
     "name": "stdin",
     "output_type": "stream",
     "text": [
      "Enter number 4\n"
     ]
    },
    {
     "name": "stdout",
     "output_type": "stream",
     "text": [
      "The factorial of 4 is 24\n"
     ]
    }
   ],
   "source": [
    "num=int(input(\"Enter number\"))\n",
    "fact=1\n",
    "\n",
    "for i in range(1,num+1):\n",
    "    fact *= i\n",
    "\n",
    "print(f\"The factorial of {num} is {fact}\")"
   ]
  },
  {
   "cell_type": "markdown",
   "id": "7938d842-5140-4099-9c9f-94d19f5c2433",
   "metadata": {},
   "source": [
    "Ans6:"
   ]
  },
  {
   "cell_type": "code",
   "execution_count": 26,
   "id": "3d438b40-cfba-4c18-b9d0-1de86f7dbdd9",
   "metadata": {},
   "outputs": [
    {
     "name": "stdin",
     "output_type": "stream",
     "text": [
      "Enter the terms: 7\n"
     ]
    },
    {
     "name": "stdout",
     "output_type": "stream",
     "text": [
      "The Fibonacci series:\n",
      "0\n",
      "1\n",
      "1\n",
      "2\n",
      "3\n",
      "5\n",
      "8\n"
     ]
    }
   ],
   "source": [
    "num=int(input(\"Enter the terms:\"))\n",
    "a=0\n",
    "b=1\n",
    "\n",
    "print(\"The Fibonacci series:\")\n",
    "print(a)\n",
    "print(b)\n",
    "\n",
    "for i in range(1,num-1):\n",
    "    c=a+b\n",
    "    print(c)\n",
    "    a,b=b,c\n",
    "    "
   ]
  },
  {
   "cell_type": "markdown",
   "id": "09ce3e31-7c5a-4c77-afea-3714bb369cab",
   "metadata": {},
   "source": [
    "Ans7:"
   ]
  },
  {
   "cell_type": "code",
   "execution_count": 34,
   "id": "607b10b6-1675-4c8b-ace0-8b57c1baf81f",
   "metadata": {},
   "outputs": [
    {
     "name": "stdin",
     "output_type": "stream",
     "text": [
      "Enter number 13\n"
     ]
    },
    {
     "name": "stdout",
     "output_type": "stream",
     "text": [
      "13 is a prime number\n"
     ]
    }
   ],
   "source": [
    "num=int(input(\"Enter number\"))\n",
    "\n",
    "for i in range(2, (num//2)+1):\n",
    "    if (num % i) == 0:\n",
    "        print(num, \"is not a prime number\")\n",
    "        break\n",
    "else:\n",
    "    print(num, \"is a prime number\")\n"
   ]
  },
  {
   "cell_type": "markdown",
   "id": "352d3cc3-4b0d-4d7f-8614-b9b48e839dad",
   "metadata": {},
   "source": [
    "Ans8:"
   ]
  },
  {
   "cell_type": "code",
   "execution_count": 62,
   "id": "89531056-9e91-405e-b4dc-0cccce2611a3",
   "metadata": {},
   "outputs": [
    {
     "name": "stdout",
     "output_type": "stream",
     "text": [
      "190 is the Largest\n"
     ]
    }
   ],
   "source": [
    "list=[3,10,190,5,7,4,18,45,100,1,6]\n",
    "large=list[0]\n",
    "\n",
    "for i in list:\n",
    "    if i > large:\n",
    "       large=i\n",
    "        \n",
    "print(large,\"is the Largest\")"
   ]
  },
  {
   "cell_type": "markdown",
   "id": "46e6576f-a021-4839-88fd-b10bdab9c86e",
   "metadata": {},
   "source": [
    "Ans9:"
   ]
  },
  {
   "cell_type": "code",
   "execution_count": 51,
   "id": "8c80da35-f671-4036-88ab-6f4916287dd9",
   "metadata": {},
   "outputs": [
    {
     "name": "stdout",
     "output_type": "stream",
     "text": [
      "nohtyp\n"
     ]
    }
   ],
   "source": [
    "str=\"python\"\n",
    "a=\"\"\n",
    "\n",
    "for i in str:\n",
    "    a=i+a\n",
    "print(a)"
   ]
  },
  {
   "cell_type": "markdown",
   "id": "c48a70b6-256d-4cbd-9fa8-538a63c3d904",
   "metadata": {},
   "source": [
    "Ans10:"
   ]
  },
  {
   "cell_type": "code",
   "execution_count": 61,
   "id": "a2307aaa-8bce-44ea-839e-accae7a82c76",
   "metadata": {},
   "outputs": [
    {
     "name": "stdout",
     "output_type": "stream",
     "text": [
      "Common elements using lists: [8, 13]\n"
     ]
    }
   ],
   "source": [
    "list1 = [1, 2, 4, 8, 13]\n",
    "list2 = [3, 8, 13, 17, 21]\n",
    "common = []\n",
    "\n",
    "for i in list1:\n",
    "    if i in list2:\n",
    "        common.append(i)\n",
    "\n",
    "print(\"Common elements using lists:\", common)"
   ]
  },
  {
   "cell_type": "code",
   "execution_count": null,
   "id": "5afb63fe-c6ab-4758-bfa1-2f2fb8e255c3",
   "metadata": {},
   "outputs": [],
   "source": []
  }
 ],
 "metadata": {
  "kernelspec": {
   "display_name": "Python 3 (ipykernel)",
   "language": "python",
   "name": "python3"
  },
  "language_info": {
   "codemirror_mode": {
    "name": "ipython",
    "version": 3
   },
   "file_extension": ".py",
   "mimetype": "text/x-python",
   "name": "python",
   "nbconvert_exporter": "python",
   "pygments_lexer": "ipython3",
   "version": "3.12.4"
  }
 },
 "nbformat": 4,
 "nbformat_minor": 5
}
